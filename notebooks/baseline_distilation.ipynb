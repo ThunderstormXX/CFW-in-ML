{
 "cells": [
  {
   "cell_type": "markdown",
   "id": "7bdbc88c",
   "metadata": {},
   "source": [
    "## Masked Distilation\n",
    "\n",
    "\n",
    "### Baseline 1:\n",
    "* Bool masking of weights trained model\n",
    "* Gradient descent of loss by continious mask\n",
    "* Clipping masks to bool value\n",
    "\n",
    "### Baseline 2:\n",
    "* Random pruning\n",
    "\n",
    "### Ours:\n",
    "* Bool masking of weights trained model\n",
    "* Frank Wolfe of loss by continious mask"
   ]
  },
  {
   "cell_type": "markdown",
   "id": "c84553ee",
   "metadata": {},
   "source": [
    "## Default model training"
   ]
  },
  {
   "cell_type": "code",
   "execution_count": 24,
   "id": "8a0bb691",
   "metadata": {},
   "outputs": [
    {
     "name": "stdout",
     "output_type": "stream",
     "text": [
      "Added repo root to sys.path: /Users/igoreshka/Desktop/CFW-in-ML\n",
      "The autoreload extension is already loaded. To reload it, use:\n",
      "  %reload_ext autoreload\n"
     ]
    }
   ],
   "source": [
    "\n",
    "import sys\n",
    "import os\n",
    "\n",
    "repo_root = os.path.abspath(os.path.join(os.getcwd(), '..'))\n",
    "if repo_root not in sys.path:\n",
    "    sys.path.insert(0, repo_root)\n",
    "print(f\"Added repo root to sys.path: {repo_root}\")\n",
    "\n",
    "import torch\n",
    "import torch.nn as nn\n",
    "import torch.nn.functional as F\n",
    "import numpy as np\n",
    "from src.model import MLP\n",
    "from src.trainer import Trainer\n",
    "import os\n",
    "import json\n",
    "import copy\n",
    "\n",
    "\n",
    "from src.utils import count_all_params\n",
    "\n",
    "\n",
    "%load_ext autoreload\n",
    "%autoreload 2"
   ]
  },
  {
   "cell_type": "code",
   "execution_count": 74,
   "id": "699fa4d3",
   "metadata": {},
   "outputs": [],
   "source": [
    "# MPS, CUDA, or CPU\n",
    "DEVICE = torch.device(\"mps\" if torch.backends.mps.is_available() else \"cuda\" if torch.cuda.is_available() else \"cpu\")  \n",
    "trainer = Trainer(dataset_name='MNIST', batch_size=64, model=model, checkpoint_path='checkpoints/ckpt_0', device=DEVICE)"
   ]
  },
  {
   "cell_type": "code",
   "execution_count": null,
   "id": "342cb9cc",
   "metadata": {},
   "outputs": [
    {
     "name": "stderr",
     "output_type": "stream",
     "text": [
      "2025-05-24 17:35:03,080 - INFO - Epoch 1: Train Loss = 0.2286, Test Loss = 0.1217, Accuracy = 96.27%\n",
      "2025-05-24 17:35:07,548 - INFO - Epoch 2: Train Loss = 0.0867, Test Loss = 0.0930, Accuracy = 97.16%\n",
      "2025-05-24 17:35:11,922 - INFO - Epoch 3: Train Loss = 0.0583, Test Loss = 0.0731, Accuracy = 97.74%\n",
      "2025-05-24 17:35:16,296 - INFO - Epoch 4: Train Loss = 0.0411, Test Loss = 0.0829, Accuracy = 97.58%\n",
      "2025-05-24 17:35:20,672 - INFO - Epoch 5: Train Loss = 0.0310, Test Loss = 0.0800, Accuracy = 97.77%\n",
      "2025-05-24 17:35:25,061 - INFO - Epoch 6: Train Loss = 0.0283, Test Loss = 0.0779, Accuracy = 97.99%\n",
      "2025-05-24 17:35:29,434 - INFO - Epoch 7: Train Loss = 0.0229, Test Loss = 0.0869, Accuracy = 97.86%\n",
      "2025-05-24 17:35:33,756 - INFO - Epoch 8: Train Loss = 0.0205, Test Loss = 0.0955, Accuracy = 97.81%\n",
      "2025-05-24 17:35:38,099 - INFO - Epoch 9: Train Loss = 0.0171, Test Loss = 0.0760, Accuracy = 98.23%\n",
      "2025-05-24 17:35:42,446 - INFO - Epoch 10: Train Loss = 0.0163, Test Loss = 0.0994, Accuracy = 97.80%\n",
      "2025-05-24 17:35:42,473 - INFO - Model and logs saved to checkpoints/ckpt_0\n"
     ]
    }
   ],
   "source": [
    "# Step 1: Инициализация и обучение модели\n",
    "model = MLP().to(device=DEVICE)\n",
    "trainer.train(n_epochs=10)\n"
   ]
  },
  {
   "cell_type": "markdown",
   "id": "fd15c255",
   "metadata": {},
   "source": [
    "## Baseline 1 implementation"
   ]
  },
  {
   "cell_type": "code",
   "execution_count": 75,
   "id": "2a93b0be",
   "metadata": {},
   "outputs": [],
   "source": [
    "from src.neurodistil.masking_prune import prune_model\n",
    "\n",
    "ckpt_path = 'checkpoints/ckpt_0/model.pt'\n",
    "ckpt = torch.load(ckpt_path, map_location=DEVICE)\n",
    "model = MLP().to(device=DEVICE)\n",
    "model.load_state_dict(ckpt)\n",
    "\n",
    "pruned_model = prune_model(model, trainer.get_train_loader(), device=DEVICE, prune_ratio=0.7, n_epochs=1)\n"
   ]
  },
  {
   "cell_type": "code",
   "execution_count": 76,
   "id": "38efd8c4",
   "metadata": {},
   "outputs": [
    {
     "name": "stdout",
     "output_type": "stream",
     "text": [
      "Original model: Test Loss = 0.0994, Accuracy = 97.80%\n",
      "Pruned model: Test Loss = 0.6904, Accuracy = 90.65%\n"
     ]
    },
    {
     "data": {
      "text/plain": [
       "(0.690416181564331, 90.65)"
      ]
     },
     "execution_count": 76,
     "metadata": {},
     "output_type": "execute_result"
    }
   ],
   "source": [
    "trainer.evaluate_model(model, description=\"Original model\")\n",
    "trainer.evaluate_model(pruned_model, description=\"Pruned model\")"
   ]
  },
  {
   "cell_type": "code",
   "execution_count": 77,
   "id": "527ab45e",
   "metadata": {},
   "outputs": [
    {
     "data": {
      "text/plain": [
       "(669706, 146310)"
      ]
     },
     "execution_count": 77,
     "metadata": {},
     "output_type": "execute_result"
    }
   ],
   "source": [
    "count_all_params(model) ,count_all_params(pruned_model)"
   ]
  },
  {
   "cell_type": "markdown",
   "id": "3fc748a1",
   "metadata": {},
   "source": [
    "## Baseline 2: Implemetation"
   ]
  },
  {
   "cell_type": "code",
   "execution_count": 90,
   "id": "ae09b6d3",
   "metadata": {},
   "outputs": [],
   "source": [
    "from src.neurodistil.prune import get_mlp_with_pruned_layers"
   ]
  },
  {
   "cell_type": "code",
   "execution_count": 121,
   "id": "829e9229",
   "metadata": {},
   "outputs": [
    {
     "name": "stdout",
     "output_type": "stream",
     "text": [
      "Original parameters: 669706\n",
      "Target parameters: 113850\n",
      "Pruned hidden dims: [145, 180]\n"
     ]
    },
    {
     "data": {
      "text/plain": [
       "MLP(\n",
       "  (model): Sequential(\n",
       "    (0): Linear(in_features=784, out_features=145, bias=True)\n",
       "    (1): ReLU()\n",
       "    (2): Linear(in_features=145, out_features=180, bias=True)\n",
       "    (3): ReLU()\n",
       "    (4): Linear(in_features=180, out_features=10, bias=True)\n",
       "  )\n",
       ")"
      ]
     },
     "execution_count": 121,
     "metadata": {},
     "output_type": "execute_result"
    }
   ],
   "source": [
    "pruned_model_2 = get_mlp_with_pruned_layers(model, sparsity_level=0.83)\n",
    "pruned_model_2"
   ]
  },
  {
   "cell_type": "code",
   "execution_count": 122,
   "id": "2bebee38",
   "metadata": {},
   "outputs": [
    {
     "name": "stdout",
     "output_type": "stream",
     "text": [
      "Original model: Test Loss = 0.0994, Accuracy = 97.80%\n",
      "Pruned model: Test Loss = 0.2121, Accuracy = 94.27%\n"
     ]
    },
    {
     "data": {
      "text/plain": [
       "(0.2120740130662918, 94.27)"
      ]
     },
     "execution_count": 122,
     "metadata": {},
     "output_type": "execute_result"
    }
   ],
   "source": [
    "trainer.evaluate_model(model, description=\"Original model\")\n",
    "trainer.evaluate_model(pruned_model_2, description=\"Pruned model\")"
   ]
  },
  {
   "cell_type": "code",
   "execution_count": 123,
   "id": "b0b97612",
   "metadata": {},
   "outputs": [
    {
     "data": {
      "text/plain": [
       "(669706, 141915)"
      ]
     },
     "execution_count": 123,
     "metadata": {},
     "output_type": "execute_result"
    }
   ],
   "source": [
    "count_all_params(model) ,count_all_params(pruned_model_2)"
   ]
  },
  {
   "cell_type": "code",
   "execution_count": null,
   "id": "e111165d",
   "metadata": {},
   "outputs": [],
   "source": []
  }
 ],
 "metadata": {
  "kernelspec": {
   "display_name": ".venv",
   "language": "python",
   "name": "python3"
  },
  "language_info": {
   "codemirror_mode": {
    "name": "ipython",
    "version": 3
   },
   "file_extension": ".py",
   "mimetype": "text/x-python",
   "name": "python",
   "nbconvert_exporter": "python",
   "pygments_lexer": "ipython3",
   "version": "3.10.16"
  }
 },
 "nbformat": 4,
 "nbformat_minor": 5
}
